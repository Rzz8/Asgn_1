{
 "cells": [
  {
   "cell_type": "code",
   "execution_count": 2,
   "id": "33dbcc8d",
   "metadata": {},
   "outputs": [
    {
     "name": "stdout",
     "output_type": "stream",
     "text": [
      "<class 'pandas.core.frame.DataFrame'>\n",
      "RangeIndex: 145490 entries, 0 to 145489\n",
      "Data columns (total 27 columns):\n",
      " #   Column         Non-Null Count   Dtype  \n",
      "---  ------         --------------   -----  \n",
      " 0   Date           145490 non-null  object \n",
      " 1   Day            145490 non-null  int64  \n",
      " 2   Month          145490 non-null  int64  \n",
      " 3   Location       145490 non-null  object \n",
      " 4   MinTemp        144005 non-null  float64\n",
      " 5   MaxTemp        144229 non-null  float64\n",
      " 6   Rainfall       142228 non-null  float64\n",
      " 7   Evaporation    82670 non-null   float64\n",
      " 8   Sunshine       75625 non-null   float64\n",
      " 9   WindGustDir    135163 non-null  object \n",
      " 10  WindGustSpeed  135226 non-null  float64\n",
      " 11  WindDir9am     134922 non-null  object \n",
      " 12  WindDir3pm     141262 non-null  object \n",
      " 13  WindSpeed9am   143722 non-null  float64\n",
      " 14  WindSpeed3pm   142428 non-null  float64\n",
      " 15  Humidity9am    142836 non-null  float64\n",
      " 16  Humidity3pm    140983 non-null  float64\n",
      " 17  Pressure9am    130425 non-null  float64\n",
      " 18  Pressure3pm    130462 non-null  float64\n",
      " 19  Cloud9am       89582 non-null   float64\n",
      " 20  Cloud3pm       86114 non-null   float64\n",
      " 21  Temp9am        143723 non-null  float64\n",
      " 22  Temp3pm        141881 non-null  float64\n",
      " 23  RainLastWeek   142228 non-null  object \n",
      " 24  RainToday      142228 non-null  object \n",
      " 25  RainTomorrow   142222 non-null  object \n",
      " 26  ENSO           13664 non-null   object \n",
      "dtypes: float64(16), int64(2), object(9)\n",
      "memory usage: 30.0+ MB\n",
      "None\n"
     ]
    },
    {
     "name": "stderr",
     "output_type": "stream",
     "text": [
      "C:\\Users\\zhong\\AppData\\Local\\Temp\\ipykernel_13656\\2298235331.py:2: DtypeWarning: Columns (26) have mixed types. Specify dtype option on import or set low_memory=False.\n",
      "  df = pd.read_csv(\"Assignment1.csv\")\n"
     ]
    }
   ],
   "source": [
    "import pandas as pd\n",
    "df = pd.read_csv(\"Assignment1.csv\")\n",
    "print(df.info())"
   ]
  },
  {
   "cell_type": "code",
   "execution_count": 3,
   "id": "7256fcde",
   "metadata": {},
   "outputs": [
    {
     "data": {
      "text/plain": [
       "RainLastWeek\n",
       "No     110323\n",
       "Yes     31905\n",
       "Name: count, dtype: int64"
      ]
     },
     "execution_count": 3,
     "metadata": {},
     "output_type": "execute_result"
    }
   ],
   "source": [
    "df['RainLastWeek'].value_counts()"
   ]
  },
  {
   "cell_type": "code",
   "execution_count": 4,
   "id": "2c9182ce",
   "metadata": {},
   "outputs": [
    {
     "data": {
      "text/plain": [
       "RainToday\n",
       "No     110341\n",
       "Yes     31887\n",
       "Name: count, dtype: int64"
      ]
     },
     "execution_count": 4,
     "metadata": {},
     "output_type": "execute_result"
    }
   ],
   "source": [
    "df['RainToday'].value_counts()"
   ]
  },
  {
   "cell_type": "code",
   "execution_count": 5,
   "id": "27621bae",
   "metadata": {},
   "outputs": [
    {
     "data": {
      "text/plain": [
       "RainTomorrow\n",
       "No     110338\n",
       "Yes     31884\n",
       "Name: count, dtype: int64"
      ]
     },
     "execution_count": 5,
     "metadata": {},
     "output_type": "execute_result"
    }
   ],
   "source": [
    "df['RainTomorrow'].value_counts()"
   ]
  },
  {
   "cell_type": "code",
   "execution_count": 6,
   "id": "b9e19f54",
   "metadata": {},
   "outputs": [
    {
     "data": {
      "text/plain": [
       "ENSO\n",
       "Yes    10680\n",
       "yes     2485\n",
       "No       383\n",
       ".        116\n",
       "Name: count, dtype: int64"
      ]
     },
     "execution_count": 6,
     "metadata": {},
     "output_type": "execute_result"
    }
   ],
   "source": [
    "df['ENSO'].value_counts()"
   ]
  },
  {
   "cell_type": "code",
   "execution_count": 7,
   "id": "86ca7091",
   "metadata": {},
   "outputs": [
    {
     "data": {
      "text/plain": [
       "RainLastWeek\n",
       "0.0    110323\n",
       "1.0     31905\n",
       "Name: count, dtype: int64"
      ]
     },
     "execution_count": 7,
     "metadata": {},
     "output_type": "execute_result"
    }
   ],
   "source": [
    "binary_map = {'Yes': 1, 'yes': 1, 'No': 0, '.': 0}\n",
    "df['RainLastWeek'] = df['RainLastWeek'].map(binary_map)\n",
    "df['RainLastWeek'].value_counts()"
   ]
  },
  {
   "cell_type": "code",
   "execution_count": 8,
   "id": "1d321397",
   "metadata": {},
   "outputs": [
    {
     "data": {
      "text/plain": [
       "RainToday\n",
       "0.0    110341\n",
       "1.0     31887\n",
       "Name: count, dtype: int64"
      ]
     },
     "execution_count": 8,
     "metadata": {},
     "output_type": "execute_result"
    }
   ],
   "source": [
    "df['RainToday'] = df['RainToday'].map(binary_map)\n",
    "df['RainToday'].value_counts()"
   ]
  },
  {
   "cell_type": "code",
   "execution_count": 9,
   "id": "26f03652",
   "metadata": {},
   "outputs": [
    {
     "data": {
      "text/plain": [
       "RainTomorrow\n",
       "0.0    110338\n",
       "1.0     31884\n",
       "Name: count, dtype: int64"
      ]
     },
     "execution_count": 9,
     "metadata": {},
     "output_type": "execute_result"
    }
   ],
   "source": [
    "df['RainTomorrow'] = df['RainTomorrow'].map(binary_map)\n",
    "df['RainTomorrow'].value_counts()"
   ]
  },
  {
   "cell_type": "code",
   "execution_count": 10,
   "id": "b4f0d1a0",
   "metadata": {},
   "outputs": [
    {
     "data": {
      "text/plain": [
       "ENSO\n",
       "1.0    13165\n",
       "0.0      499\n",
       "Name: count, dtype: int64"
      ]
     },
     "execution_count": 10,
     "metadata": {},
     "output_type": "execute_result"
    }
   ],
   "source": [
    "df['ENSO'] = df['ENSO'].map(binary_map)\n",
    "df['ENSO'].value_counts()"
   ]
  },
  {
   "cell_type": "code",
   "execution_count": 11,
   "id": "3192f3b2",
   "metadata": {},
   "outputs": [
    {
     "name": "stdout",
     "output_type": "stream",
     "text": [
      "<class 'pandas.core.frame.DataFrame'>\n",
      "RangeIndex: 145490 entries, 0 to 145489\n",
      "Data columns (total 27 columns):\n",
      " #   Column         Non-Null Count   Dtype  \n",
      "---  ------         --------------   -----  \n",
      " 0   Date           145490 non-null  object \n",
      " 1   Day            145490 non-null  int64  \n",
      " 2   Month          145490 non-null  int64  \n",
      " 3   Location       145490 non-null  object \n",
      " 4   MinTemp        144005 non-null  float64\n",
      " 5   MaxTemp        144229 non-null  float64\n",
      " 6   Rainfall       142228 non-null  float64\n",
      " 7   Evaporation    82670 non-null   float64\n",
      " 8   Sunshine       75625 non-null   float64\n",
      " 9   WindGustDir    135163 non-null  object \n",
      " 10  WindGustSpeed  135226 non-null  float64\n",
      " 11  WindDir9am     134922 non-null  object \n",
      " 12  WindDir3pm     141262 non-null  object \n",
      " 13  WindSpeed9am   143722 non-null  float64\n",
      " 14  WindSpeed3pm   142428 non-null  float64\n",
      " 15  Humidity9am    142836 non-null  float64\n",
      " 16  Humidity3pm    140983 non-null  float64\n",
      " 17  Pressure9am    130425 non-null  float64\n",
      " 18  Pressure3pm    130462 non-null  float64\n",
      " 19  Cloud9am       89582 non-null   float64\n",
      " 20  Cloud3pm       86114 non-null   float64\n",
      " 21  Temp9am        143723 non-null  float64\n",
      " 22  Temp3pm        141881 non-null  float64\n",
      " 23  RainLastWeek   142228 non-null  float64\n",
      " 24  RainToday      142228 non-null  float64\n",
      " 25  RainTomorrow   142222 non-null  float64\n",
      " 26  ENSO           13664 non-null   float64\n",
      "dtypes: float64(20), int64(2), object(5)\n",
      "memory usage: 30.0+ MB\n",
      "None\n"
     ]
    }
   ],
   "source": [
    "print(df.info())"
   ]
  },
  {
   "cell_type": "code",
   "execution_count": 12,
   "id": "c44fb0a7",
   "metadata": {},
   "outputs": [],
   "source": [
    "import numpy as np\n",
    "df2 = df.select_dtypes(include=[np.number])"
   ]
  },
  {
   "cell_type": "code",
   "execution_count": 13,
   "id": "9393eabe",
   "metadata": {},
   "outputs": [
    {
     "data": {
      "text/plain": [
       "Day                15.712214\n",
       "Month               6.400564\n",
       "MinTemp            12.194325\n",
       "MaxTemp            23.222217\n",
       "Rainfall            2.360812\n",
       "Evaporation         5.468232\n",
       "Sunshine            7.611178\n",
       "WindGustSpeed      40.035829\n",
       "WindSpeed9am       14.043257\n",
       "WindSpeed3pm       18.662798\n",
       "Humidity9am        68.878119\n",
       "Humidity3pm        51.535320\n",
       "Pressure9am      1017.648087\n",
       "Pressure3pm      1015.253982\n",
       "Cloud9am            4.447646\n",
       "Cloud3pm            4.509859\n",
       "Temp9am            16.991064\n",
       "Temp3pm            21.684221\n",
       "RainLastWeek        0.224323\n",
       "RainToday           0.224196\n",
       "RainTomorrow        0.224185\n",
       "ENSO                0.963481\n",
       "dtype: float64"
      ]
     },
     "execution_count": 13,
     "metadata": {},
     "output_type": "execute_result"
    }
   ],
   "source": [
    "df2.mean()"
   ]
  },
  {
   "cell_type": "code",
   "execution_count": 14,
   "id": "8dd24d06",
   "metadata": {},
   "outputs": [
    {
     "data": {
      "text/plain": [
       "Day                16.0\n",
       "Month               6.0\n",
       "MinTemp            12.0\n",
       "MaxTemp            22.6\n",
       "Rainfall            0.0\n",
       "Evaporation         4.8\n",
       "Sunshine            8.4\n",
       "WindGustSpeed      39.0\n",
       "WindSpeed9am       13.0\n",
       "WindSpeed3pm       19.0\n",
       "Humidity9am        70.0\n",
       "Humidity3pm        52.0\n",
       "Pressure9am      1017.6\n",
       "Pressure3pm      1015.2\n",
       "Cloud9am            5.0\n",
       "Cloud3pm            5.0\n",
       "Temp9am            16.7\n",
       "Temp3pm            21.1\n",
       "RainLastWeek        0.0\n",
       "RainToday           0.0\n",
       "RainTomorrow        0.0\n",
       "ENSO                1.0\n",
       "dtype: float64"
      ]
     },
     "execution_count": 14,
     "metadata": {},
     "output_type": "execute_result"
    }
   ],
   "source": [
    "df2.median()"
   ]
  },
  {
   "cell_type": "code",
   "execution_count": 15,
   "id": "e1583abb",
   "metadata": {},
   "outputs": [
    {
     "data": {
      "text/html": [
       "<div>\n",
       "<style scoped>\n",
       "    .dataframe tbody tr th:only-of-type {\n",
       "        vertical-align: middle;\n",
       "    }\n",
       "\n",
       "    .dataframe tbody tr th {\n",
       "        vertical-align: top;\n",
       "    }\n",
       "\n",
       "    .dataframe thead th {\n",
       "        text-align: right;\n",
       "    }\n",
       "</style>\n",
       "<table border=\"1\" class=\"dataframe\">\n",
       "  <thead>\n",
       "    <tr style=\"text-align: right;\">\n",
       "      <th></th>\n",
       "      <th>Day</th>\n",
       "      <th>Month</th>\n",
       "      <th>MinTemp</th>\n",
       "      <th>MaxTemp</th>\n",
       "      <th>Rainfall</th>\n",
       "      <th>Evaporation</th>\n",
       "      <th>Sunshine</th>\n",
       "      <th>WindGustSpeed</th>\n",
       "      <th>WindSpeed9am</th>\n",
       "      <th>WindSpeed3pm</th>\n",
       "      <th>...</th>\n",
       "      <th>Pressure9am</th>\n",
       "      <th>Pressure3pm</th>\n",
       "      <th>Cloud9am</th>\n",
       "      <th>Cloud3pm</th>\n",
       "      <th>Temp9am</th>\n",
       "      <th>Temp3pm</th>\n",
       "      <th>RainLastWeek</th>\n",
       "      <th>RainToday</th>\n",
       "      <th>RainTomorrow</th>\n",
       "      <th>ENSO</th>\n",
       "    </tr>\n",
       "  </thead>\n",
       "  <tbody>\n",
       "    <tr>\n",
       "      <th>0</th>\n",
       "      <td>1</td>\n",
       "      <td>3.0</td>\n",
       "      <td>11.0</td>\n",
       "      <td>20.0</td>\n",
       "      <td>0.0</td>\n",
       "      <td>4.0</td>\n",
       "      <td>0.0</td>\n",
       "      <td>35.0</td>\n",
       "      <td>9.0</td>\n",
       "      <td>13.0</td>\n",
       "      <td>...</td>\n",
       "      <td>1016.4</td>\n",
       "      <td>1015.3</td>\n",
       "      <td>7.0</td>\n",
       "      <td>7.0</td>\n",
       "      <td>17.0</td>\n",
       "      <td>20.0</td>\n",
       "      <td>0.0</td>\n",
       "      <td>0.0</td>\n",
       "      <td>0.0</td>\n",
       "      <td>1.0</td>\n",
       "    </tr>\n",
       "  </tbody>\n",
       "</table>\n",
       "<p>1 rows × 22 columns</p>\n",
       "</div>"
      ],
      "text/plain": [
       "   Day  Month  MinTemp  MaxTemp  Rainfall  Evaporation  Sunshine  \\\n",
       "0    1    3.0     11.0     20.0       0.0          4.0       0.0   \n",
       "\n",
       "   WindGustSpeed  WindSpeed9am  WindSpeed3pm  ...  Pressure9am  Pressure3pm  \\\n",
       "0           35.0           9.0          13.0  ...       1016.4       1015.3   \n",
       "\n",
       "   Cloud9am  Cloud3pm  Temp9am  Temp3pm  RainLastWeek  RainToday  \\\n",
       "0       7.0       7.0     17.0     20.0           0.0        0.0   \n",
       "\n",
       "   RainTomorrow  ENSO  \n",
       "0           0.0   1.0  \n",
       "\n",
       "[1 rows x 22 columns]"
      ]
     },
     "execution_count": 15,
     "metadata": {},
     "output_type": "execute_result"
    }
   ],
   "source": [
    "df2.mode()[0:1]"
   ]
  },
  {
   "cell_type": "code",
   "execution_count": 16,
   "id": "7a5b4e1a",
   "metadata": {},
   "outputs": [
    {
     "data": {
      "image/png": "[encoded data removed]",
      "text/plain": [
       "<Figure size 640x480 with 1 Axes>"
      ]
     },
     "metadata": {},
     "output_type": "display_data"
    }
   ],
   "source": [
    "import matplotlib.pyplot as plt\n",
    "import seaborn as sns\n",
    "import warnings\n",
    "warnings.filterwarnings(\"ignore\")\n",
    "ax = sns.boxplot(df['Rainfall'])\n",
    "plt.show()"
   ]
  },
  {
   "cell_type": "code",
   "execution_count": 17,
   "id": "8296886c",
   "metadata": {},
   "outputs": [
    {
     "data": {
      "image/png": "[encoded data removed]",
      "text/plain": [
       "<Figure size 640x480 with 1 Axes>"
      ]
     },
     "metadata": {},
     "output_type": "display_data"
    }
   ],
   "source": [
    "ng = sns.distplot(df['Evaporation'])\n",
    "plt.show()"
   ]
  },
  {
   "cell_type": "code",
   "execution_count": 18,
   "id": "7e59950d",
   "metadata": {},
   "outputs": [
    {
     "data": {
      "image/png": "[encoded data removed]",
      "text/plain": [
       "<Figure size 640x480 with 1 Axes>"
      ]
     },
     "metadata": {},
     "output_type": "display_data"
    }
   ],
   "source": [
    "ng = sns.distplot(df['Sunshine'].dropna())\n",
    "plt.show()"
   ]
  },
  {
   "cell_type": "code",
   "execution_count": 19,
   "id": "b4d91cfc",
   "metadata": {},
   "outputs": [
    {
     "name": "stdout",
     "output_type": "stream",
     "text": [
      "Mildura\n"
     ]
    }
   ],
   "source": [
    "max_sunshine_row = df[df['Sunshine'] == df['Sunshine'].max()]\n",
    "location_with_max_sunshine_row = max_sunshine_row['Location'].values[0]\n",
    "print(location_with_max_sunshine_row)"
   ]
  },
  {
   "cell_type": "code",
   "execution_count": 53,
   "id": "e4fbaf5a",
   "metadata": {},
   "outputs": [
    {
     "data": {
      "text/plain": [
       "31.134426229508193"
      ]
     },
     "execution_count": 53,
     "metadata": {},
     "output_type": "execute_result"
    }
   ],
   "source": [
    "# southly directions include S - South, SSW - South-Southwest, SSE - South-Southeast\n",
    "avg_max_temp_row = df[(df['Date'].str.split('/').str[-1].astype(int) == 2016) & (df['Location'] == 'Uluru') &((df['WindGustDir'] == 'S') | (df['WindGustDir'] == 'SSW') | (df['WindGustDir'] == 'SSE'))]\n",
    "avg_max_temp_row['MaxTemp'].mean()"
   ]
  },
  {
   "cell_type": "code",
   "execution_count": 55,
   "id": "242e0b2a",
   "metadata": {},
   "outputs": [
    {
     "name": "stdout",
     "output_type": "stream",
     "text": [
      "Location\n",
      "Darwin          1739.0\n",
      "CoffsHarbour    1307.8\n",
      "Cairns          1256.2\n",
      "Katherine       1133.8\n",
      "Sydney           865.8\n",
      "Name: Rainfall, dtype: float64\n"
     ]
    }
   ],
   "source": [
    "year_2017_row = df[df['Date'].str.split('/').str[-1].astype(int) == 2017]\n",
    "location_rainfall_2017 = year_2017_row.groupby('Location')['Rainfall'].sum()\n",
    "top_5_locations = location_rainfall_2017.nlargest(5)\n",
    "print(top_5_locations)"
   ]
  },
  {
   "cell_type": "code",
   "execution_count": 58,
   "id": "84ca4f6f",
   "metadata": {},
   "outputs": [
    {
     "name": "stdout",
     "output_type": "stream",
     "text": [
      "WindDir3pm\n",
      "W      2911\n",
      "WSW    2750\n",
      "S      2623\n",
      "SW     2618\n",
      "SSW    2455\n",
      "WNW    2364\n",
      "SE     2340\n",
      "SSE    2209\n",
      "NW     1892\n",
      "ESE    1482\n",
      "E      1426\n",
      "NNW    1374\n",
      "N      1326\n",
      "ENE    1165\n",
      "NE     1095\n",
      "NNE     875\n",
      "Name: count, dtype: int64\n"
     ]
    }
   ],
   "source": [
    "raining_row = df[df['RainToday'] ==1]\n",
    "wind_direction_counts = raining_row[\"WindDir3pm\"].value_counts()\n",
    "print(wind_direction_counts)"
   ]
  },
  {
   "cell_type": "code",
   "execution_count": null,
   "id": "4ea51cda",
   "metadata": {},
   "outputs": [],
   "source": []
  }
 ],
 "metadata": {
  "kernelspec": {
   "display_name": "Python 3 (ipykernel)",
   "language": "python",
   "name": "python3"
  },
  "language_info": {
   "codemirror_mode": {
    "name": "ipython",
    "version": 3
   },
   "file_extension": ".py",
   "mimetype": "text/x-python",
   "name": "python",
   "nbconvert_exporter": "python",
   "pygments_lexer": "ipython3",
   "version": "3.11.5"
  }
 },
 "nbformat": 4,
 "nbformat_minor": 5
}
